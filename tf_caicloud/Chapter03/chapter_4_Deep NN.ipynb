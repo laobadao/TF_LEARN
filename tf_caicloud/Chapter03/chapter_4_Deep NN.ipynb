{
 "cells": [
  {
   "cell_type": "markdown",
   "metadata": {},
   "source": [
    "# Tensorflow 实战 Google 深度学习框架 | 学习笔记（二）\n",
    "\n",
    ">Shoot on the moon and if you miss you will still be among the stars.\n",
    "\n",
    "Caicloud Github :[tensorflow-tutorial](https://github.com/caicloud/tensorflow-tutorial)https://github.com/caicloud/tensorflow-tutorial\n",
    "\n",
    "原 tutorial 使用的 Tensorflow 最新版本是 1.4.0 ，本人使用的 1.5.0 版本，所以部分代码会略有不同，该笔记仅为个人学习，理解使用。如有错误，还望批评指教。----ZJ\n",
    "\n",
    "## 4 深层神经网络\n",
    "\n",
    "### 4.1 深度学习与深层神经网络\n",
    "\n",
    "wiki 深度学习定义：一类通过多层非线性变换对高复杂性数据建模算法的合集。\n",
    "\n",
    "深度学习，两个重要特性：**多层 and 非线性。**\n",
    "\n",
    "- 线性模型的局限性，线性模型能够解决的问题是有限的(解决线性可分的问题)。\n",
    "    - 3.4.2 小节中，输出为所有输入的加权和，导致整个神经网络是一个线性模型。\n",
    "    - （采用线性函数）任意层的全连接神经网络（FC）和单层神经网络模型的表达能力没有任何区别。\n",
    "    - 线性模型可以解决线性可分的问题，如通过直线（或高维空间的平面）划分。\n",
    "    - 现实世界中，绝大多数问题是无法线性分割的，所以出现 Relu 这样非线性的激活函数，来解决高复杂性的问题（深度学习的目的就是解决这样的问题）\n",
    "    \n",
    "- 激活函数实现去线性化\n",
    "    - 如果每个神经元的输出通过一个非线性函数，那么整个神经网络就不再是线性的了。\n",
    "    - 添加偏置项（bias）,偏置项 是神经网络中非常有用的一种结构。\n",
    "    - 每个节点（神经元）的输出在 加权和的基础上，还做了一个非线性变换。\n",
    "    - 常用非线性激活函数（tf.nn.relu, tf.sigmoid, tf.tanh）\n",
    "\n",
    "- 多层网络解决异或运算\n",
    "    - 在神经网络的发展史，有个很重要的问题，**异或问题**。\n",
    "    - 1958 感知机模型，将输入进行加权和，没有隐藏层，然后经过激活函数最后得到输出。不能解决异或问题。\n",
    "    - 异或问题（直观理解）：两个输入的符号相同时（同正，同负）输出为 0 ，否则（一正一负）输出为 1.\n",
    "    - 加入隐藏层后，异或问题得到很好的解决\n",
    "    - 深层网络有组合特征提取的功能，这个特性对于解决不易提取特征向量的问题（如图片识别，语音识别等）有很大的帮助。\n",
    "\n",
    "### 4.2 损失函数的定义\n",
    "\n",
    "**神经网络模型的效果以及优化的目标是通过损失函数（loss function）来定义的。**\n",
    "\n",
    "监督学习的两大种类：分类问题 and 回归问题。\n",
    "\n",
    "- 经典损失函数\n",
    "\n",
    "- 自定义损失函数\n",
    "\n",
    "\n",
    "如何判断一个输出向量和期望的向量有多接近？------交叉熵（cross entropy）是最常用的评判方法之一。\n",
    "\n",
    "交叉熵 （cross entropy）:\n",
    "\n",
    "给定两个概率分布 p,q \n",
    "\n",
    "$$H(p,q)= - \\sum_{x}p(x)logq(x)$$\n",
    "\n",
    "注意：交叉熵刻画的是两个概率之间的分布，但是神经网络的输出不一定是一个概率分布。\n",
    "\n",
    "- 概率分布刻画了不同事件发生的概率，当事件总数有限的情况下，概率分布函数 $p(X=x)$ 满足：\n",
    "\n",
    "$$\\forall x \\space\\space p(X=x)\\in[0,1]  且 \\sum_{x}p(X=x)=1$$\n",
    "\n",
    "- 任意事件发生的概率都在 0 和 1 之间\n",
    "- 且总有某一个事件发生（概率的和为 1）\n",
    "\n",
    "如何将神经网络前向传播的结果变成概率分布？\n",
    "\n",
    "- softmax 回归是一个常用的方法\n",
    "\n",
    "【图】4_10\n",
    "\n",
    "假设原始的神经网络输出为 $y_1,y_2,\\dots,y_n$,那么经过 softmax 处理之后的输出为：\n",
    "\n",
    "$$ softmax(y)_i=y_i^{'}=\\frac{e^{yi}}{\\sum_{j=1}^{n}e^{yj}}$$\n",
    "\n",
    "- 原始神经网络的输出被用作置信度来生成新的输出,新的输出满足概率分布的所有要求\n",
    "- 新的输出可以理解为经过神经网络的推导，一个样本为不同类别的概率分别有多大\n",
    "- 因此神经网络的输出变为了一个概率分布，从而可以通过交叉熵来计算预测概率分布和真实答案的概率分布之间的距离。\n",
    "- 交叉熵函数不是对称的 （$H(p.q)\\neq H(q,p)$）,刻画的是通过概率 q 来表达概率分布 p 的困难程度\n",
    "- 在神经网络中，p 代表正确标签，q 代表预测值"
   ]
  },
  {
   "cell_type": "code",
   "execution_count": 2,
   "metadata": {},
   "outputs": [
    {
     "data": {
      "text/plain": [
       "'1.5.0'"
      ]
     },
     "execution_count": 2,
     "metadata": {},
     "output_type": "execute_result"
    }
   ],
   "source": [
    "import tensorflow as tf\n",
    "\n",
    "tf.__version__"
   ]
  },
  {
   "cell_type": "code",
   "execution_count": null,
   "metadata": {},
   "outputs": [],
   "source": [
    "'''\n",
    "Tensorflow 实现交叉熵\n",
    "\n",
    "'''\n",
    "\n",
    "cross_entropy = -tf.reduce_mean(y_* tf.log(tf.clip_by_value(y, 1e-10, 1.0)))\n",
    "\n"
   ]
  },
  {
   "cell_type": "markdown",
   "metadata": {},
   "source": [
    "reduce_mean 可以理解为 $ \\frac{1}{n} \\sum$ ,n 代表一个 batch 中样例的数量\n",
    "\n",
    "其中：`y_ `代表正确结果， `y` 代表预测值\n",
    "\n",
    "上面一行代码，包含了 4 种不同的 Tensorflow 运算。\n",
    "\n",
    "- `tf.clip_by_value`函数可以将在一个张量中的数值限制在一个范围之内，可以避免一些运算错误，（如 log0 是无效的） \n",
    "\n",
    "  - 小于 2.5 的数值替换为 2.5 ，大于 4.5 的数值 替换为 4.5\n",
    "  - 通过 `tf.clip_by_value`  函数可以保证在进行 log 运算时，不会出现 log0 这样的错误"
   ]
  },
  {
   "cell_type": "code",
   "execution_count": 3,
   "metadata": {},
   "outputs": [
    {
     "name": "stdout",
     "output_type": "stream",
     "text": [
      "[[2.5 2.5 3. ]\n",
      " [4.  4.5 4.5]]\n"
     ]
    }
   ],
   "source": [
    "import tensorflow as tf\n",
    "\n",
    "v = tf.constant([[1.0, 2.0, 3.0], [4.0, 5.0, 6.0]])\n",
    "\n",
    "with tf.Session() as sess:\n",
    "    print(tf.clip_by_value(v, 2.5, 4.5).eval())\n"
   ]
  },
  {
   "cell_type": "markdown",
   "metadata": {},
   "source": [
    "- 第二个运算是 `tf.log` 函数，完成对张量中所有函数一次求对数的功能"
   ]
  },
  {
   "cell_type": "code",
   "execution_count": 5,
   "metadata": {},
   "outputs": [
    {
     "name": "stdout",
     "output_type": "stream",
     "text": [
      "[0.        0.6931472 1.0986123]\n"
     ]
    }
   ],
   "source": [
    "v = tf.constant([1.0, 2.0, 3.0])\n",
    "\n",
    "with tf.Session() as sess:\n",
    "    \n",
    "    print(tf.log(v).eval())"
   ]
  },
  {
   "cell_type": "markdown",
   "metadata": {},
   "source": [
    "- 第三个是乘法运算，在实现交叉熵的代码中直接将两个矩阵通过 `*`操作相乘，这个操作不是矩阵乘法，而是元素之间直接相乘 （element-wise）\n",
    "- 矩阵乘法需要使用 `tf.matmul` 函数完成。下面示例给出两者区别："
   ]
  },
  {
   "cell_type": "code",
   "execution_count": 8,
   "metadata": {},
   "outputs": [
    {
     "name": "stdout",
     "output_type": "stream",
     "text": [
      "逐元乘积：\n",
      " [[ 5. 12.]\n",
      " [21. 32.]]\n",
      "矩阵乘法:\n",
      " [[19. 22.]\n",
      " [43. 50.]]\n"
     ]
    }
   ],
   "source": [
    "v1 = tf.constant([[1.0, 2.0], [3.0, 4.0]])\n",
    "v2 = tf.constant([[5.0, 6.0], [7.0, 8.0]])\n",
    "\n",
    "with tf.Session() as sess:\n",
    "    print('逐元乘积：\\n',(v1*v2).eval())\n",
    "    print('矩阵乘法:\\n', tf.matmul(v1, v2).eval())"
   ]
  },
  {
   "cell_type": "markdown",
   "metadata": {},
   "source": [
    "- `v1 * v2` 的结果是每个位置上对应元素的乘积，如结果中（1,1）元素值 5 是 `1×5 = 5`\n",
    "- `tf.matmul` 函数完成矩阵乘法 ，如 （1,1）元素值 19 是 `1× 5 + 2× 7 = 19`\n",
    "\n",
    "- 上面三个运算完成了对每一个样例中每个类别交叉熵 `p(x)logq(x)`的计算\n",
    "- 这三步计算分别得到的结果是一个 `n × m`的二维矩阵，n 为一个 batch 中样例的数量， m 为分类的类别数量。\n",
    "- 根据该交叉熵的公式，应该将每行中的 m 个结果相加得到所有样例的交叉熵\n",
    "- 然后再对这 n 行取平均得到一个 batch 的平均交叉熵\n",
    "- 因为分类问题的类别数量是不变的，所以可以直接对整个矩阵做平均而不改变计算结果的意义\n",
    "- 简单展示 `tf.reduce_mean` 函数的使用方法\n"
   ]
  },
  {
   "cell_type": "code",
   "execution_count": 9,
   "metadata": {},
   "outputs": [
    {
     "name": "stdout",
     "output_type": "stream",
     "text": [
      "3.5\n"
     ]
    }
   ],
   "source": [
    "v = tf.constant([[1.0,2.0,3.0],[4.0,5.0,6.0]])\n",
    "\n",
    "with tf.Session() as sess:\n",
    "    print(tf.reduce_mean(v).eval())"
   ]
  },
  {
   "cell_type": "markdown",
   "metadata": {},
   "source": [
    "- 因为 交叉熵一般会和 softmax 回归一起使用，所以 Tensorflow 对这两个功能进行了统一封装 ，并提供 `tf.nn.softmax_cross_entopy_with_logits` 函数\n",
    "- 可以通过下面代码来实现使用了 softmax 回归之后的交叉熵损失函数"
   ]
  },
  {
   "cell_type": "code",
   "execution_count": null,
   "metadata": {},
   "outputs": [],
   "source": [
    "# y 是预测输出值，y_ 是标准答案\n",
    "cross_entopy = tf.nn.softmax_cross_entropy_with_logits(y,y_)\n"
   ]
  },
  {
   "cell_type": "markdown",
   "metadata": {},
   "source": [
    "- 回归问题解决的是对具体数值的预测，如房价预测，销量预测等。\n",
    "- 解决回归问题的神经网络一般只有一个输出节点，输出值为预测值。\n",
    "- 回归问题最常用的是损失函数是均方误差（MES, mean squared error）\n",
    "\n",
    "$$ MSE(y,y^{'}) = \\frac{\\sum_{i=1}^{n}(y_i-y^{'})^2}{n}$$\n",
    "\n",
    "- $y_i$ 为一个 batch 中第 i 个数据的正确答案，$y^{'}$ 为神经网络给出的预测值\n",
    "- Tensorflow 实现均方误差损失函数\n",
    "\n",
    "```\n",
    "mse = tf.reduce_mean(tf.square(y_ - y))\n",
    "\n",
    "```\n",
    "\n",
    "其中：`y_ `代表标准答案， `y` 代表神经网络输出值\n",
    "\n",
    "### 4.2.2 自定义损失函数\n",
    "\n",
    "- Tensorflow 支持任意优化的自定义损失函数\n",
    "- 下面公式给出一个 当预测多于真实值和预测少于真实值时有不同系数的损失函数\n",
    "\n",
    "$$ Loss(y, y^{'}) = \\sum_{i=1}^{n}f(y_i,y_i^{'}), \\space\\space  f(x,y)=\\left\\{\n",
    "\\begin{aligned}\n",
    "a(x-y) & & x> y \\\\\n",
    "b(y-x) & & x≤y \\\\\n",
    "\\end{aligned}\\right.  $$\n",
    "\n",
    "- $y_i$ 为一个 batch 中第 i 个数据的正确答案，$y^{'}$ 为神经网络给出的预测值 a,b 是常量，如 a = 10 , b = 1,TF 实现：\n"
   ]
  },
  {
   "cell_type": "code",
   "execution_count": null,
   "metadata": {},
   "outputs": [],
   "source": [
    "loss = tf.reduce_sum(tf.where(tf.greater(v1,v2),(v1 - v2) * a, (v2- v1) *b ))"
   ]
  },
  {
   "cell_type": "markdown",
   "metadata": {},
   "source": [
    "- 用到了 `tf.greater` 和 `tf.where` 来实现选择操作\n",
    "- `tf.greater` 的输入是两个张量，此函数会比较这两个输入张量中每一个元素的大小，并返回比较结果\n",
    "- 当 `tf.greater `  的输入张量维度不一样是，TF 会进行类似 Numpy 广播（broadcasting） 的处理。\n",
    "- `tf.where` 有三个参数，1.选择条件根据，当选择条件 为 True 时，`tf.where` 函数会选择第二个参数中的值，否则使用第三个参数中的值。\n",
    "- 注意：`tf.where` 函数判断和选择都是在元素级别进行，下面展示用法："
   ]
  },
  {
   "cell_type": "code",
   "execution_count": 12,
   "metadata": {},
   "outputs": [
    {
     "name": "stdout",
     "output_type": "stream",
     "text": [
      "[False False  True  True]\n",
      "[4. 3. 3. 4.]\n"
     ]
    }
   ],
   "source": [
    "v1 = tf.constant([1.0, 2.0, 3.0, 4.0])\n",
    "v2 = tf.constant([4.0, 3.0, 2.0, 1.0])\n",
    "\n",
    "sess = tf.InteractiveSession()\n",
    "\n",
    "print(tf.greater(v1, v2).eval())\n",
    "\n",
    "print(tf.where(tf.greater(v1,v2),v1,v2).eval())\n",
    "\n",
    "sess.close()"
   ]
  },
  {
   "cell_type": "markdown",
   "metadata": {},
   "source": [
    "下面通过一个简单的神经网络程序来讲解损失函数对模型训练结果的影响。\n",
    "\n",
    "- 两个输入节点，一个输出节点，没有隐藏层 "
   ]
  },
  {
   "cell_type": "code",
   "execution_count": null,
   "metadata": {},
   "outputs": [],
   "source": [
    "\n",
    "'''\n",
    "1. 定义神经网络的相关参数和变量。\n",
    "\n",
    "'''\n",
    "\n",
    "\n",
    "\n",
    "# 输入两个节点\n",
    "\n",
    "# 回归问题一般只有一个输出节点\n",
    "\n",
    "# 定义一个单层神经网络的前向传播过程，这里是简单加权和\n",
    "\n",
    "'''\n",
    "2. 设置自定义的损失函数。\n",
    " \n",
    "'''\n",
    "# 定义预测多了和预测少了的 成本\n",
    "\n",
    "'''\n",
    "3. 生成模拟数据集。\n",
    "'''\n",
    "\n",
    "# 通过随机数生成一个数据模拟集\n",
    "\n",
    "'''\n",
    "设置回归的正确值为两个输入的和加上一个随机量，之所以要加上一个随机量是为了\n",
    "加入不可预测的噪音，否则不同损失函数的意义就不大了，因为不同损失函数都会在能\n",
    "完全预测正确的时候最低，一般来说噪音是一个均值为 0 的小量，所以这里的\n",
    "噪音设置为 -0.05 ~ 0.05 的随机数\n",
    "\n",
    "'''\n",
    "\n",
    "'''\n",
    "4.训练模型。\n",
    "\n",
    "'''"
   ]
  }
 ],
 "metadata": {
  "kernelspec": {
   "display_name": "Python 3",
   "language": "python",
   "name": "python3"
  },
  "language_info": {
   "codemirror_mode": {
    "name": "ipython",
    "version": 3
   },
   "file_extension": ".py",
   "mimetype": "text/x-python",
   "name": "python",
   "nbconvert_exporter": "python",
   "pygments_lexer": "ipython3",
   "version": "3.6.2"
  }
 },
 "nbformat": 4,
 "nbformat_minor": 2
}

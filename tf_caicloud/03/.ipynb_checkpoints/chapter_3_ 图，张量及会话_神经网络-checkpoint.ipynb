{
 "cells": [
  {
   "cell_type": "markdown",
   "metadata": {},
   "source": [
    "# Tensorflow 实战 Google 深度学习框架 | 学习笔记（一）\n",
    "\n",
    ">Shoot on the moon and if you miss you will still be among the stars.\n",
    "\n",
    "Caicloud Github :[tensorflow-tutorial](https://github.com/caicloud/tensorflow-tutorial)https://github.com/caicloud/tensorflow-tutorial\n",
    "\n",
    "原本 tutorial 使用的 Tensorflow 最新版本是 1.4.0 ，本人使用的 1.5.0 版本，所以部分代码会略有不同，该笔记仅为个人学习，理解使用。如有错误，还望批评指教。----ZJ\n",
    "\n",
    "## 3.1 计算图的使用"
   ]
  },
  {
   "cell_type": "code",
   "execution_count": 7,
   "metadata": {},
   "outputs": [
    {
     "data": {
      "text/plain": [
       "'1.5.0'"
      ]
     },
     "execution_count": 7,
     "metadata": {},
     "output_type": "execute_result"
    }
   ],
   "source": [
    "import tensorflow as tf\n",
    "\n",
    "tf.__version__"
   ]
  },
  {
   "cell_type": "code",
   "execution_count": 1,
   "metadata": {},
   "outputs": [
    {
     "name": "stderr",
     "output_type": "stream",
     "text": [
      "E:\\ProgramData\\Anaconda3\\lib\\site-packages\\h5py\\__init__.py:36: FutureWarning: Conversion of the second argument of issubdtype from `float` to `np.floating` is deprecated. In future, it will be treated as `np.float64 == np.dtype(float).type`.\n",
      "  from ._conv import register_converters as _register_converters\n"
     ]
    },
    {
     "name": "stdout",
     "output_type": "stream",
     "text": [
      "Tensor(\"add:0\", shape=(2,), dtype=float32)\n"
     ]
    }
   ],
   "source": [
    "'''\n",
    "3.12 计算图的使用\n",
    "\n",
    "'''\n",
    "\n",
    "import tensorflow as tf \n",
    " \n",
    "a = tf.constant([1.0, 2.0], name='a')\n",
    "b = tf.constant([2.0, 3.0], name='b')\n",
    "\n",
    "result = a + b\n",
    "\n",
    "print(result)"
   ]
  },
  {
   "cell_type": "code",
   "execution_count": 2,
   "metadata": {},
   "outputs": [
    {
     "name": "stdout",
     "output_type": "stream",
     "text": [
      "True\n"
     ]
    }
   ],
   "source": [
    "print(a.graph is tf.get_default_graph())"
   ]
  },
  {
   "cell_type": "markdown",
   "metadata": {},
   "source": [
    "1. 定义两个不同的图\n",
    "\n",
    "除了默认的计算图，Tensorflow 支持通过 tf.Graph() 函数来生成新的计算图。"
   ]
  },
  {
   "cell_type": "code",
   "execution_count": 3,
   "metadata": {},
   "outputs": [
    {
     "name": "stdout",
     "output_type": "stream",
     "text": [
      "[0.]\n",
      "[1.]\n"
     ]
    }
   ],
   "source": [
    "import tensorflow as tf\n",
    "\n",
    "g1 = tf.Graph()\n",
    "with g1.as_default():\n",
    "    # 在计算图 g1 中定义变量“v”,并设置初始值为 0\n",
    "    v = tf.get_variable('v', shape=[1], initializer=tf.zeros_initializer)\n",
    "    \n",
    "g2 = tf.Graph()\n",
    "with g2.as_default():\n",
    "    # 在计算图 g2 中定义变量“v”设置初始值为 1\n",
    "    v = tf.get_variable('v', shape=[1], initializer=tf.ones_initializer)\n",
    "\n",
    "#  在计算图 g1 中，读取变量‘v’的值\n",
    "with tf.Session(graph=g1) as sess:\n",
    "    tf.global_variables_initializer().run()\n",
    "    with tf.variable_scope('', reuse=True):\n",
    "        # 在计算图 g1 中，变量 ‘v’的值取值应该为 0，所以下面这行会输出[0.]\n",
    "        print(sess.run(tf.get_variable('v')))\n",
    "    \n",
    "#  在计算图 g2 中，读取变量‘v’的值    \n",
    "with tf.Session(graph=g2) as sess:\n",
    "    tf.global_variables_initializer().run()\n",
    "    with tf.variable_scope('',reuse=True):\n",
    "        # 在计算图 g2 中，变量 ‘v’的值取值应该为 1，所以下面这行会输出[1.]\n",
    "        print(sess.run(tf.get_variable('v')))"
   ]
  },
  {
   "cell_type": "code",
   "execution_count": 4,
   "metadata": {},
   "outputs": [
    {
     "name": "stdout",
     "output_type": "stream",
     "text": [
      "Tensor(\"add_1:0\", shape=(2,), dtype=float32)\n"
     ]
    }
   ],
   "source": [
    "import tensorflow as tf\n",
    "\n",
    "a = tf.constant([1.0, 2.0], name='a')\n",
    "b = tf.constant([2.0, 3.0], name='b')\n",
    "\n",
    "g  = tf.Graph()\n",
    "with g.device('/gpu:0'):\n",
    "    result = a + b\n",
    "\n",
    "print(result)"
   ]
  },
  {
   "cell_type": "markdown",
   "metadata": {},
   "source": [
    "## 3.2 Tensorflow 数据模型—— 张量\n",
    "\n",
    "第 n 阶张量，理解为 n 维数组。\n",
    "\n",
    "与 numpy 不同，Tensorflow 计算的结果不是一个具体的数，而是一个张量的结构，主要保存三个属性：名字（name）,维度（shape）和类型（type）.\n",
    "\n",
    "注意：类型要匹配"
   ]
  },
  {
   "cell_type": "code",
   "execution_count": 5,
   "metadata": {},
   "outputs": [
    {
     "name": "stdout",
     "output_type": "stream",
     "text": [
      "Tensor(\"add_2:0\", shape=(2,), dtype=float32)\n",
      "Tensor(\"add_3:0\", shape=(2,), dtype=float32)\n",
      "[3.  5.4]\n",
      "[5. 7.]\n"
     ]
    }
   ],
   "source": [
    "import tensorflow as tf\n",
    "\n",
    "a = tf.constant([1.0, 2.0], name='a')\n",
    "b = tf.constant([2.0, 3.4], name='b')\n",
    "c = tf.constant([4, 5], name='c')\n",
    "d = tf.constant([4, 5], name='d', dtype=tf.float32)\n",
    "\n",
    "result = a + b\n",
    "\n",
    "# 类型不匹配 会报错\n",
    "# result1 = a + c \n",
    "\n",
    "# 指定类型 dtype=tf.float32 正常运行\n",
    "result2 = a + d \n",
    "\n",
    "print (result)\n",
    "print (result2)\n",
    "\n",
    "sess = tf.InteractiveSession()\n",
    "print(result.eval())\n",
    "print(result2.eval())\n",
    "sess.close()\n",
    "\n",
    "\n"
   ]
  },
  {
   "cell_type": "markdown",
   "metadata": {},
   "source": [
    "add_2:0 ：说明 result 这个张量是输出节点‘add’输出的第 3 个结果，编号从 0 开始\n",
    "\n",
    "## 3.3 Tensorflow 运行模型——会话\n",
    "\n",
    "使用 Session 来执行定义好的运算，Session 拥有并管理 Tensorflow 程序运行时的所有资源，当所有计算完成之后需要关闭会话来帮助系统回收资源，否则就可能出现资源泄露的问题。\n",
    "\n",
    "### 3.3.1 创建和关闭会话"
   ]
  },
  {
   "cell_type": "code",
   "execution_count": 6,
   "metadata": {},
   "outputs": [
    {
     "name": "stdout",
     "output_type": "stream",
     "text": [
      "[3.  5.4]\n"
     ]
    }
   ],
   "source": [
    "# 创建一个会话。\n",
    "sess = tf.Session()\n",
    "\n",
    "# 使用会话得到之前计算的结果。\n",
    "print(sess.run(result))\n",
    "\n",
    "# 关闭会话使得本次运行中使用到的资源可以被释放。\n",
    "sess.close()"
   ]
  },
  {
   "cell_type": "markdown",
   "metadata": {},
   "source": [
    "上面这种模式是，在所有计算完成之后，明确调用 Session.close() 函数来关闭会话，但是，若程序因异常而退出，**Session.close() 函数可能就不会被执行到，从而导致资源泄露。**\n",
    "\n",
    "解决这个问题：则通过 Python 的上下文管理器 with 来使用 Session\n",
    "\n",
    "### 3.3.2 使用 with statement 来创建会话"
   ]
  },
  {
   "cell_type": "code",
   "execution_count": 7,
   "metadata": {},
   "outputs": [
    {
     "name": "stdout",
     "output_type": "stream",
     "text": [
      "[3.  5.4]\n"
     ]
    }
   ],
   "source": [
    "# 创建一个 Session ,并通过 Python 的上下文管理器 with 来管理 Session\n",
    "with tf.Session() as sess:\n",
    "    print(sess.run(result))\n",
    "\n",
    "\n",
    "# 不需要调用 sess.close() 函数，当上下文退出时，会话关闭和资源释放将会自用完成。"
   ]
  },
  {
   "cell_type": "markdown",
   "metadata": {},
   "source": [
    "### 3.3.3 指定默认会话\n",
    "\n",
    "- Tensorflow 会自动生成一个默认的计算图 （Graph），如果没有特殊指定，运算会加到这个默认的计算图中。\n",
    "- Session 有类似的机制，但是 Tensorflow 不会自动生成默认的 Session ，需要 手动指定。\n",
    "- tf.Tensor.eval() 可以用来计算一个张量的取值。"
   ]
  },
  {
   "cell_type": "code",
   "execution_count": 10,
   "metadata": {},
   "outputs": [
    {
     "name": "stdout",
     "output_type": "stream",
     "text": [
      "Tensor(\"add_2:0\", shape=(2,), dtype=float32)\n",
      "Tensor(\"add_2:0\", shape=(2,), dtype=float32)\n",
      "[3.  5.4]\n"
     ]
    }
   ],
   "source": [
    "print(result)\n",
    "\n",
    "sess = tf.Session()3.3 指定默认会话\n",
    "with sess.as_default():\n",
    "    print(result)\n",
    "    print(result.eval())"
   ]
  },
  {
   "cell_type": "code",
   "execution_count": 11,
   "metadata": {},
   "outputs": [
    {
     "name": "stdout",
     "output_type": "stream",
     "text": [
      "[3.  5.4]\n",
      "[3.  5.4]\n"
     ]
    }
   ],
   "source": [
    "sess = tf.Session()\n",
    "\n",
    "# 下面的两个命令有相同的功能。\n",
    "\n",
    "print(sess.run(result))\n",
    "print(result.eval(session=sess))\n",
    "sess.close()"
   ]
  },
  {
   "cell_type": "markdown",
   "metadata": {},
   "source": [
    "### 3.3.4 使用 tf.InteractiveSession 构建会话¶\n",
    "\n",
    "在交互式环境下，（Python 脚本 或 jupyter notebook）,通过设置默认的会话方式，可以更方便的获取张量的取值。\n"
   ]
  },
  {
   "cell_type": "code",
   "execution_count": 15,
   "metadata": {},
   "outputs": [
    {
     "name": "stdout",
     "output_type": "stream",
     "text": [
      "<bound method Tensor.eval of <tf.Tensor 'add_2:0' shape=(2,) dtype=float32>>\n",
      "[3.  5.4]\n"
     ]
    }
   ],
   "source": [
    "sess = tf.InteractiveSession()\n",
    "print(result.eval)\n",
    "print(result.eval())\n",
    "sess.close()"
   ]
  },
  {
   "cell_type": "markdown",
   "metadata": {},
   "source": [
    "### 3.3.5 通过 ConfigProto 配置会话 Session\n",
    "\n",
    "之前都是使用的默认的 session 的配置，我们也可以通过 ConfigProto 对 session 进行特殊的配置，来实现不同的需求。\n",
    "\n"
   ]
  },
  {
   "cell_type": "code",
   "execution_count": 17,
   "metadata": {},
   "outputs": [],
   "source": [
    "config = tf.ConfigProto(allow_soft_placement=True, log_device_placement=True)\n",
    "sess1 = tf.InteractiveSession(config=config)\n",
    "sess2 = tf.Session(config=config)\n",
    "sess1.close()\n",
    "sess2.close()"
   ]
  },
  {
   "cell_type": "markdown",
   "metadata": {},
   "source": [
    "- 通过 ConfigProto 可以配置并行的线程数，GPU 分配策略，运算超时时间等参数。\n",
    "- allow_soft_placement=True 时（默认为False），以下三个条件成立时，GPU 运算可以放到 CPU 上运行。\n",
    "    - 运算无法在 GPU 执行 \n",
    "    - 没有指定的 GPU 资源，1. 没有 GPU 2.指定第二个，实际上只有 1个\n",
    "    - 运算输入包含对 CPU 计算结果的引用\n",
    "- log_device_placement=True 时（默认为 False 减少日志量），为 True时，日志中会记录每个节点被安排在哪个设备上以方便调试。  \n",
    "\n",
    "## 3.4 Tensorflow 实现神经网络\n",
    "\n",
    "### 3.4.1 \n",
    "\n",
    "\n",
    "\n",
    "### 3.4.2 \n",
    "\n",
    "### 3.4.3\n",
    "\n",
    "### 3.4.4\n"
   ]
  }
 ],
 "metadata": {
  "kernelspec": {
   "display_name": "Python 3",
   "language": "python",
   "name": "python3"
  },
  "language_info": {
   "codemirror_mode": {
    "name": "ipython",
    "version": 3
   },
   "file_extension": ".py",
   "mimetype": "text/x-python",
   "name": "python",
   "nbconvert_exporter": "python",
   "pygments_lexer": "ipython3",
   "version": "3.6.4"
  }
 },
 "nbformat": 4,
 "nbformat_minor": 2
}

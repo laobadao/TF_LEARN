{
 "cells": [
  {
   "cell_type": "markdown",
   "metadata": {},
   "source": [
    "#### 1.  不同的命名空间。"
   ]
  },
  {
   "cell_type": "code",
   "execution_count": 2,
   "metadata": {},
   "outputs": [
    {
     "name": "stderr",
     "output_type": "stream",
     "text": [
      "d:\\program files\\python36\\lib\\site-packages\\h5py\\__init__.py:36: FutureWarning: Conversion of the second argument of issubdtype from `float` to `np.floating` is deprecated. In future, it will be treated as `np.float64 == np.dtype(float).type`.\n",
      "  from ._conv import register_converters as _register_converters\n"
     ]
    },
    {
     "name": "stdout",
     "output_type": "stream",
     "text": [
      "foo/bar:0\n",
      "bar/bar:0\n"
     ]
    }
   ],
   "source": [
    "import tensorflow as tf\n",
    "with tf.variable_scope(\"foo\"):\n",
    "    a = tf.get_variable(\"bar\", [1])\n",
    "    print(a.name) \n",
    "\n",
    "with tf.variable_scope(\"bar\"):\n",
    "    b = tf.get_variable(\"bar\", [1])\n",
    "    print(b.name) "
   ]
  },
  {
   "cell_type": "markdown",
   "metadata": {},
   "source": [
    "#### 2. tf.Variable和tf.get_variable的区别。"
   ]
  },
  {
   "cell_type": "code",
   "execution_count": 3,
   "metadata": {},
   "outputs": [
    {
     "name": "stdout",
     "output_type": "stream",
     "text": [
      "a/Variable:0\n",
      "b:0\n"
     ]
    }
   ],
   "source": [
    "with tf.name_scope(\"a\"):\n",
    "    a = tf.Variable([1])\n",
    "    print(a.name) \n",
    "    \n",
    "    a = tf.get_variable(\"b\", [1])\n",
    "    print(a.name) "
   ]
  },
  {
   "cell_type": "markdown",
   "metadata": {},
   "source": [
    "#### 3. TensorBoard可以根据命名空间来整理可视化效果图上的节点。"
   ]
  },
  {
   "cell_type": "code",
   "execution_count": 5,
   "metadata": {},
   "outputs": [],
   "source": [
    "with tf.name_scope(\"input1\"):\n",
    "    input1 = tf.constant([1.0, 2.0, 3.0], name=\"input2\")\n",
    "with tf.name_scope(\"input2\"):\n",
    "    input2 = tf.Variable(tf.random_uniform([3]), name=\"input2\")\n",
    "output = tf.add_n([input1, input2], name=\"add\")\n",
    "\n",
    "writer = tf.summary.FileWriter(\"log/simple_example.log\", tf.get_default_graph())\n",
    "writer.close()"
   ]
  },
  {
   "cell_type": "markdown",
   "metadata": {},
   "source": [
    "注意： --logdir= 后面的地址要明确指定 \n",
    "\n",
    "tensorboard --logdir=D:/github/Open_source_framework/TF_LEARN/tf_caicloud/Chapter11/log\n"
   ]
  }
 ],
 "metadata": {
  "kernelspec": {
   "display_name": "Python 3",
   "language": "python",
   "name": "python3"
  },
  "language_info": {
   "codemirror_mode": {
    "name": "ipython",
    "version": 3
   },
   "file_extension": ".py",
   "mimetype": "text/x-python",
   "name": "python",
   "nbconvert_exporter": "python",
   "pygments_lexer": "ipython3",
   "version": "3.6.2"
  }
 },
 "nbformat": 4,
 "nbformat_minor": 1
}
